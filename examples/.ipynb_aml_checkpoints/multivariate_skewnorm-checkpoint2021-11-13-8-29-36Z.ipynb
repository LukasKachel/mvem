{
 "cells": [
  {
   "cell_type": "markdown",
   "id": "29267f49",
   "metadata": {},
   "source": [
    "\n",
    "$$\n",
    "f(\\boldsymbol{y}) = 2\\phi_p(\\boldsymbol{y}\\vert\\boldsymbol{\\mu},\\boldsymbol{\\Sigma})\\Phi_1\\left(\\boldsymbol{\\lambda}^T\\boldsymbol{\\Sigma}^{-1/2}(\\boldsymbol{y}-\\boldsymbol{\\mu})\\right), \\hspace{0.3cm}\\text{for }\\boldsymbol{y}\\in\\mathbb{R}^d,\n",
    "$$\n",
    "\n",
    "where $\\boldsymbol{\\mu}\\in\\mathbb{R}^d$, $\\boldsymbol{\\lambda}\\in\\mathbb{R}^d$, and $\\boldsymbol{\\Sigma}\\in\\mathbb{R}^{d\\times d}$. The marginal stochastic representation is given by\n",
    "\n",
    "$$\n",
    "\\boldsymbol{Y}\\stackrel{d}{=}\\boldsymbol{\\mu}+\\boldsymbol{\\Sigma}^{1/2}\\left(\\boldsymbol{\\delta}\\vert T_0\\vert + \\left(\\mathbb{I}_p-\\boldsymbol{\\delta}\\boldsymbol{\\delta}^T\\right)^{1/2}T_1\\right)\n",
    "$$\n",
    "\n",
    "where $T_0\\sim N_1(0,1)$ and $T_1\\sim N_p(0, \\mathbb{I}_p)$ independently and $\\boldsymbol{\\delta} = \\boldsymbol{\\lambda}/\\sqrt{1+\\boldsymbol{\\delta}^T\\boldsymbol{\\delta}}$. It follows that\n",
    "\n",
    "$$\\mathbb{E}(\\boldsymbol{Y}) = \\boldsymbol{\\mu} + \\sqrt{\\frac{2}{\\pi}}\\boldsymbol{\\Sigma}^{1/2}\\boldsymbol{\\delta}$$\n",
    "\n",
    "$$\\text{Var}(\\boldsymbol{Y})=\\boldsymbol{\\Sigma}-\\frac{2}{\\pi}\\boldsymbol{\\Sigma}^{1/2}\\boldsymbol{\\delta}\\boldsymbol{\\delta}^T\\boldsymbol{\\Sigma}^{1/2}$$\n",
    "\n",
    "Let $A = \\boldsymbol{\\lambda}^T\\boldsymbol{\\Sigma}^{-1/2}(\\boldsymbol{y}-\\boldsymbol{\\mu})$ and $W_{\\Phi_1(x)}=\\phi_1(x)/\\Phi_1(x)$ for $x\\in\\mathbb{R}$. We get\n",
    "\n",
    "$$\\mathbb{E}[U^r\\vert\\boldsymbol{y}]=\\frac{2}{f(\\boldsymbol{y})}\\phi_p(\\boldsymbol{y}\\vert\\boldsymbol{\\mu},\\boldsymbol{\\Sigma})\\Phi_1(A)$$\n",
    "\n",
    "$$\\mathbb{E}[U^rW_{\\Phi_1}\\left(U^{1/2}A\\right)] = \\frac{2}{f(\\boldsymbol{y})}\\phi_p(\\boldsymbol{y}\\vert\\boldsymbol{\\mu},\\boldsymbol{\\Sigma})\\phi_1(A)$$"
   ]
  },
  {
   "cell_type": "code",
   "execution_count": null,
   "id": "e0588a54",
   "metadata": {},
   "outputs": [],
   "source": [
    "# file:///C:/Users/875075/Downloads/11234-Texto%20del%20art%C3%ADculo-44622-1-10-20141217.pdf"
   ]
  },
  {
   "cell_type": "markdown",
   "id": "1d4e8337",
   "metadata": {},
   "source": [
    "Define $\\boldsymbol{\\Delta}:=\\boldsymbol{\\Sigma}^{1/2}\\boldsymbol{\\delta}$ and $\\boldsymbol{\\Gamma}:=\\boldsymbol{\\Sigma}-\\boldsymbol{\\Delta}\\boldsymbol{\\Delta}^T$. It follows that\n",
    "\n",
    "$$l(\\boldsymbol{\\theta}\\vert\\boldsymbol{y},\\boldsymbol{u},\\boldsymbol{t})=c-\\frac{n}{2}\\log\\vert\\boldsymbol{\\Gamma}\\vert-\\frac{1}{2}\\sum_{i=1}^n u_i(\\boldsymbol{y}_i-\\boldsymbol{\\mu}-\\boldsymbol{\\Delta}t_i)^T\\boldsymbol{\\Gamma}^{-1}(\\boldsymbol{y}_i-\\boldsymbol{\\mu}-\\boldsymbol{\\Delta}t_i),$$\n",
    "\n",
    "where $c$ is a constant independent of the parameter vector $\\boldsymbol{\\theta}$"
   ]
  },
  {
   "cell_type": "code",
   "execution_count": 46,
   "id": "c22ec12b",
   "metadata": {},
   "outputs": [],
   "source": [
    "import numpy as np\n",
    "import scipy.stats\n",
    "import scipy"
   ]
  },
  {
   "cell_type": "code",
   "execution_count": null,
   "id": "9ab9f5de",
   "metadata": {},
   "outputs": [],
   "source": []
  },
  {
   "cell_type": "code",
   "execution_count": null,
   "id": "1467e157",
   "metadata": {},
   "outputs": [],
   "source": []
  },
  {
   "cell_type": "code",
   "execution_count": 53,
   "id": "db098958",
   "metadata": {},
   "outputs": [],
   "source": [
    "d = 2\n",
    "n = 1000\n",
    "\n",
    "y = scipy.stats.multivariate_normal.rvs(np.ones((d)), np.eye(d), n)"
   ]
  },
  {
   "cell_type": "code",
   "execution_count": 58,
   "id": "5ccdbac3",
   "metadata": {},
   "outputs": [],
   "source": [
    "mu = np.ones((d, 1))\n",
    "Sigma = np.eye(d)\n",
    "lmbda = np.zeros((d, 1))\n",
    "delta = lmbda / np.sqrt(1 + lmbda.T @ lmbda)\n",
    "Delta = np.sqrt(Sigma) @ delta\n",
    "Gamma = Sigma - Delta @ Delta.T"
   ]
  },
  {
   "cell_type": "code",
   "execution_count": 61,
   "id": "ca982138",
   "metadata": {},
   "outputs": [],
   "source": [
    "def _delta(lmbda):\n",
    "    return lmbda / np.sqrt(1 + lmbda.T @ lmbda)\n",
    "\n",
    "def mean(mu, lmbda, Sigma):\n",
    "    return mu + np.sqrt(2/np.pi) * np.sqrt(Sigma) @ _delta(lmbda)\n",
    "\n",
    "def var(mu, lmbda, Sigma):\n",
    "    delta = _delta(lmbda)\n",
    "    sqrtS = np.sqrt(Sigma)\n",
    "    return Sigma - (2/np.pi) * sqrtS @ delta @ delta.T @ sqrtS"
   ]
  },
  {
   "cell_type": "code",
   "execution_count": null,
   "id": "96c1835c",
   "metadata": {},
   "outputs": [],
   "source": []
  },
  {
   "cell_type": "code",
   "execution_count": 69,
   "id": "2d9418a8",
   "metadata": {},
   "outputs": [],
   "source": [
    "M2 = 1 / (1 + Delta.T @ np.linalg.inv(Gamma) @ Delta)\n",
    "M  = np.sqrt(M2)\n",
    "muT = M2 * Delta.T @ np.linalg.inv(Gamma) @ (y.T - mu)\n",
    "\n",
    "A = lmbda.T @ np.linalg.inv(np.sqrt(Sigma)) @ (y.T - mu)\n",
    "tau = scipy.stats.norm.pdf(A) / scipy.stats.norm.cdf(A)\n",
    "\n",
    "E_t = muT + M * tau\n",
    "E_t2 = muT**2 + M2 + M * muT * tau"
   ]
  },
  {
   "cell_type": "code",
   "execution_count": 115,
   "id": "fab3b451",
   "metadata": {},
   "outputs": [],
   "source": [
    "mu_k = (y - E_t.T * Delta.T) / n"
   ]
  },
  {
   "cell_type": "code",
   "execution_count": 117,
   "id": "d44241dc",
   "metadata": {},
   "outputs": [],
   "source": [
    "dev = y - mu_k"
   ]
  },
  {
   "cell_type": "code",
   "execution_count": 124,
   "id": "da87ea27",
   "metadata": {},
   "outputs": [],
   "source": [
    "#np.mean(dev * dev, axis = 0)"
   ]
  },
  {
   "cell_type": "code",
   "execution_count": 136,
   "id": "55d43c9f",
   "metadata": {},
   "outputs": [],
   "source": [
    "Delta_k = (np.mean(E_t.T * dev, axis = 0) / np.mean(E_t))[:, None]"
   ]
  },
  {
   "cell_type": "code",
   "execution_count": 141,
   "id": "cd9ea9f5",
   "metadata": {},
   "outputs": [
    {
     "data": {
      "text/plain": [
       "array([[0., 0.],\n",
       "       [0., 0.]])"
      ]
     },
     "execution_count": 141,
     "metadata": {},
     "output_type": "execute_result"
    }
   ],
   "source": [
    "delta @ delta.T * np.mean(E_t)"
   ]
  },
  {
   "cell_type": "code",
   "execution_count": 140,
   "id": "ffa8adc7",
   "metadata": {},
   "outputs": [
    {
     "data": {
      "text/plain": [
       "0.7978845608028654"
      ]
     },
     "execution_count": 140,
     "metadata": {},
     "output_type": "execute_result"
    }
   ],
   "source": []
  },
  {
   "cell_type": "code",
   "execution_count": 123,
   "id": "327dc6d5",
   "metadata": {},
   "outputs": [
    {
     "data": {
      "text/plain": [
       "array([[0.79788456, 0.79788456, 0.79788456, 0.79788456, 0.79788456,\n",
       "        0.79788456, 0.79788456, 0.79788456, 0.79788456, 0.79788456,\n",
       "        0.79788456, 0.79788456, 0.79788456, 0.79788456, 0.79788456,\n",
       "        0.79788456, 0.79788456, 0.79788456, 0.79788456, 0.79788456,\n",
       "        0.79788456, 0.79788456, 0.79788456, 0.79788456, 0.79788456,\n",
       "        0.79788456, 0.79788456, 0.79788456, 0.79788456, 0.79788456,\n",
       "        0.79788456, 0.79788456, 0.79788456, 0.79788456, 0.79788456,\n",
       "        0.79788456, 0.79788456, 0.79788456, 0.79788456, 0.79788456,\n",
       "        0.79788456, 0.79788456, 0.79788456, 0.79788456, 0.79788456,\n",
       "        0.79788456, 0.79788456, 0.79788456, 0.79788456, 0.79788456,\n",
       "        0.79788456, 0.79788456, 0.79788456, 0.79788456, 0.79788456,\n",
       "        0.79788456, 0.79788456, 0.79788456, 0.79788456, 0.79788456,\n",
       "        0.79788456, 0.79788456, 0.79788456, 0.79788456, 0.79788456,\n",
       "        0.79788456, 0.79788456, 0.79788456, 0.79788456, 0.79788456,\n",
       "        0.79788456, 0.79788456, 0.79788456, 0.79788456, 0.79788456,\n",
       "        0.79788456, 0.79788456, 0.79788456, 0.79788456, 0.79788456,\n",
       "        0.79788456, 0.79788456, 0.79788456, 0.79788456, 0.79788456,\n",
       "        0.79788456, 0.79788456, 0.79788456, 0.79788456, 0.79788456,\n",
       "        0.79788456, 0.79788456, 0.79788456, 0.79788456, 0.79788456,\n",
       "        0.79788456, 0.79788456, 0.79788456, 0.79788456, 0.79788456,\n",
       "        0.79788456, 0.79788456, 0.79788456, 0.79788456, 0.79788456,\n",
       "        0.79788456, 0.79788456, 0.79788456, 0.79788456, 0.79788456,\n",
       "        0.79788456, 0.79788456, 0.79788456, 0.79788456, 0.79788456,\n",
       "        0.79788456, 0.79788456, 0.79788456, 0.79788456, 0.79788456,\n",
       "        0.79788456, 0.79788456, 0.79788456, 0.79788456, 0.79788456,\n",
       "        0.79788456, 0.79788456, 0.79788456, 0.79788456, 0.79788456,\n",
       "        0.79788456, 0.79788456, 0.79788456, 0.79788456, 0.79788456,\n",
       "        0.79788456, 0.79788456, 0.79788456, 0.79788456, 0.79788456,\n",
       "        0.79788456, 0.79788456, 0.79788456, 0.79788456, 0.79788456,\n",
       "        0.79788456, 0.79788456, 0.79788456, 0.79788456, 0.79788456,\n",
       "        0.79788456, 0.79788456, 0.79788456, 0.79788456, 0.79788456,\n",
       "        0.79788456, 0.79788456, 0.79788456, 0.79788456, 0.79788456,\n",
       "        0.79788456, 0.79788456, 0.79788456, 0.79788456, 0.79788456,\n",
       "        0.79788456, 0.79788456, 0.79788456, 0.79788456, 0.79788456,\n",
       "        0.79788456, 0.79788456, 0.79788456, 0.79788456, 0.79788456,\n",
       "        0.79788456, 0.79788456, 0.79788456, 0.79788456, 0.79788456,\n",
       "        0.79788456, 0.79788456, 0.79788456, 0.79788456, 0.79788456,\n",
       "        0.79788456, 0.79788456, 0.79788456, 0.79788456, 0.79788456,\n",
       "        0.79788456, 0.79788456, 0.79788456, 0.79788456, 0.79788456,\n",
       "        0.79788456, 0.79788456, 0.79788456, 0.79788456, 0.79788456,\n",
       "        0.79788456, 0.79788456, 0.79788456, 0.79788456, 0.79788456,\n",
       "        0.79788456, 0.79788456, 0.79788456, 0.79788456, 0.79788456,\n",
       "        0.79788456, 0.79788456, 0.79788456, 0.79788456, 0.79788456,\n",
       "        0.79788456, 0.79788456, 0.79788456, 0.79788456, 0.79788456,\n",
       "        0.79788456, 0.79788456, 0.79788456, 0.79788456, 0.79788456,\n",
       "        0.79788456, 0.79788456, 0.79788456, 0.79788456, 0.79788456,\n",
       "        0.79788456, 0.79788456, 0.79788456, 0.79788456, 0.79788456,\n",
       "        0.79788456, 0.79788456, 0.79788456, 0.79788456, 0.79788456,\n",
       "        0.79788456, 0.79788456, 0.79788456, 0.79788456, 0.79788456,\n",
       "        0.79788456, 0.79788456, 0.79788456, 0.79788456, 0.79788456,\n",
       "        0.79788456, 0.79788456, 0.79788456, 0.79788456, 0.79788456,\n",
       "        0.79788456, 0.79788456, 0.79788456, 0.79788456, 0.79788456,\n",
       "        0.79788456, 0.79788456, 0.79788456, 0.79788456, 0.79788456,\n",
       "        0.79788456, 0.79788456, 0.79788456, 0.79788456, 0.79788456,\n",
       "        0.79788456, 0.79788456, 0.79788456, 0.79788456, 0.79788456,\n",
       "        0.79788456, 0.79788456, 0.79788456, 0.79788456, 0.79788456,\n",
       "        0.79788456, 0.79788456, 0.79788456, 0.79788456, 0.79788456,\n",
       "        0.79788456, 0.79788456, 0.79788456, 0.79788456, 0.79788456,\n",
       "        0.79788456, 0.79788456, 0.79788456, 0.79788456, 0.79788456,\n",
       "        0.79788456, 0.79788456, 0.79788456, 0.79788456, 0.79788456,\n",
       "        0.79788456, 0.79788456, 0.79788456, 0.79788456, 0.79788456,\n",
       "        0.79788456, 0.79788456, 0.79788456, 0.79788456, 0.79788456,\n",
       "        0.79788456, 0.79788456, 0.79788456, 0.79788456, 0.79788456,\n",
       "        0.79788456, 0.79788456, 0.79788456, 0.79788456, 0.79788456,\n",
       "        0.79788456, 0.79788456, 0.79788456, 0.79788456, 0.79788456,\n",
       "        0.79788456, 0.79788456, 0.79788456, 0.79788456, 0.79788456,\n",
       "        0.79788456, 0.79788456, 0.79788456, 0.79788456, 0.79788456,\n",
       "        0.79788456, 0.79788456, 0.79788456, 0.79788456, 0.79788456,\n",
       "        0.79788456, 0.79788456, 0.79788456, 0.79788456, 0.79788456,\n",
       "        0.79788456, 0.79788456, 0.79788456, 0.79788456, 0.79788456,\n",
       "        0.79788456, 0.79788456, 0.79788456, 0.79788456, 0.79788456,\n",
       "        0.79788456, 0.79788456, 0.79788456, 0.79788456, 0.79788456,\n",
       "        0.79788456, 0.79788456, 0.79788456, 0.79788456, 0.79788456,\n",
       "        0.79788456, 0.79788456, 0.79788456, 0.79788456, 0.79788456,\n",
       "        0.79788456, 0.79788456, 0.79788456, 0.79788456, 0.79788456,\n",
       "        0.79788456, 0.79788456, 0.79788456, 0.79788456, 0.79788456,\n",
       "        0.79788456, 0.79788456, 0.79788456, 0.79788456, 0.79788456,\n",
       "        0.79788456, 0.79788456, 0.79788456, 0.79788456, 0.79788456,\n",
       "        0.79788456, 0.79788456, 0.79788456, 0.79788456, 0.79788456,\n",
       "        0.79788456, 0.79788456, 0.79788456, 0.79788456, 0.79788456,\n",
       "        0.79788456, 0.79788456, 0.79788456, 0.79788456, 0.79788456,\n",
       "        0.79788456, 0.79788456, 0.79788456, 0.79788456, 0.79788456,\n",
       "        0.79788456, 0.79788456, 0.79788456, 0.79788456, 0.79788456,\n",
       "        0.79788456, 0.79788456, 0.79788456, 0.79788456, 0.79788456,\n",
       "        0.79788456, 0.79788456, 0.79788456, 0.79788456, 0.79788456,\n",
       "        0.79788456, 0.79788456, 0.79788456, 0.79788456, 0.79788456,\n",
       "        0.79788456, 0.79788456, 0.79788456, 0.79788456, 0.79788456,\n",
       "        0.79788456, 0.79788456, 0.79788456, 0.79788456, 0.79788456,\n",
       "        0.79788456, 0.79788456, 0.79788456, 0.79788456, 0.79788456,\n",
       "        0.79788456, 0.79788456, 0.79788456, 0.79788456, 0.79788456,\n",
       "        0.79788456, 0.79788456, 0.79788456, 0.79788456, 0.79788456,\n",
       "        0.79788456, 0.79788456, 0.79788456, 0.79788456, 0.79788456,\n",
       "        0.79788456, 0.79788456, 0.79788456, 0.79788456, 0.79788456,\n",
       "        0.79788456, 0.79788456, 0.79788456, 0.79788456, 0.79788456,\n",
       "        0.79788456, 0.79788456, 0.79788456, 0.79788456, 0.79788456,\n",
       "        0.79788456, 0.79788456, 0.79788456, 0.79788456, 0.79788456,\n",
       "        0.79788456, 0.79788456, 0.79788456, 0.79788456, 0.79788456,\n",
       "        0.79788456, 0.79788456, 0.79788456, 0.79788456, 0.79788456,\n",
       "        0.79788456, 0.79788456, 0.79788456, 0.79788456, 0.79788456,\n",
       "        0.79788456, 0.79788456, 0.79788456, 0.79788456, 0.79788456,\n",
       "        0.79788456, 0.79788456, 0.79788456, 0.79788456, 0.79788456,\n",
       "        0.79788456, 0.79788456, 0.79788456, 0.79788456, 0.79788456,\n",
       "        0.79788456, 0.79788456, 0.79788456, 0.79788456, 0.79788456,\n",
       "        0.79788456, 0.79788456, 0.79788456, 0.79788456, 0.79788456,\n",
       "        0.79788456, 0.79788456, 0.79788456, 0.79788456, 0.79788456,\n",
       "        0.79788456, 0.79788456, 0.79788456, 0.79788456, 0.79788456,\n",
       "        0.79788456, 0.79788456, 0.79788456, 0.79788456, 0.79788456,\n",
       "        0.79788456, 0.79788456, 0.79788456, 0.79788456, 0.79788456,\n",
       "        0.79788456, 0.79788456, 0.79788456, 0.79788456, 0.79788456,\n",
       "        0.79788456, 0.79788456, 0.79788456, 0.79788456, 0.79788456,\n",
       "        0.79788456, 0.79788456, 0.79788456, 0.79788456, 0.79788456,\n",
       "        0.79788456, 0.79788456, 0.79788456, 0.79788456, 0.79788456,\n",
       "        0.79788456, 0.79788456, 0.79788456, 0.79788456, 0.79788456,\n",
       "        0.79788456, 0.79788456, 0.79788456, 0.79788456, 0.79788456,\n",
       "        0.79788456, 0.79788456, 0.79788456, 0.79788456, 0.79788456,\n",
       "        0.79788456, 0.79788456, 0.79788456, 0.79788456, 0.79788456,\n",
       "        0.79788456, 0.79788456, 0.79788456, 0.79788456, 0.79788456,\n",
       "        0.79788456, 0.79788456, 0.79788456, 0.79788456, 0.79788456,\n",
       "        0.79788456, 0.79788456, 0.79788456, 0.79788456, 0.79788456,\n",
       "        0.79788456, 0.79788456, 0.79788456, 0.79788456, 0.79788456,\n",
       "        0.79788456, 0.79788456, 0.79788456, 0.79788456, 0.79788456,\n",
       "        0.79788456, 0.79788456, 0.79788456, 0.79788456, 0.79788456,\n",
       "        0.79788456, 0.79788456, 0.79788456, 0.79788456, 0.79788456,\n",
       "        0.79788456, 0.79788456, 0.79788456, 0.79788456, 0.79788456,\n",
       "        0.79788456, 0.79788456, 0.79788456, 0.79788456, 0.79788456,\n",
       "        0.79788456, 0.79788456, 0.79788456, 0.79788456, 0.79788456,\n",
       "        0.79788456, 0.79788456, 0.79788456, 0.79788456, 0.79788456,\n",
       "        0.79788456, 0.79788456, 0.79788456, 0.79788456, 0.79788456,\n",
       "        0.79788456, 0.79788456, 0.79788456, 0.79788456, 0.79788456,\n",
       "        0.79788456, 0.79788456, 0.79788456, 0.79788456, 0.79788456,\n",
       "        0.79788456, 0.79788456, 0.79788456, 0.79788456, 0.79788456,\n",
       "        0.79788456, 0.79788456, 0.79788456, 0.79788456, 0.79788456,\n",
       "        0.79788456, 0.79788456, 0.79788456, 0.79788456, 0.79788456,\n",
       "        0.79788456, 0.79788456, 0.79788456, 0.79788456, 0.79788456,\n",
       "        0.79788456, 0.79788456, 0.79788456, 0.79788456, 0.79788456,\n",
       "        0.79788456, 0.79788456, 0.79788456, 0.79788456, 0.79788456,\n",
       "        0.79788456, 0.79788456, 0.79788456, 0.79788456, 0.79788456,\n",
       "        0.79788456, 0.79788456, 0.79788456, 0.79788456, 0.79788456,\n",
       "        0.79788456, 0.79788456, 0.79788456, 0.79788456, 0.79788456,\n",
       "        0.79788456, 0.79788456, 0.79788456, 0.79788456, 0.79788456,\n",
       "        0.79788456, 0.79788456, 0.79788456, 0.79788456, 0.79788456,\n",
       "        0.79788456, 0.79788456, 0.79788456, 0.79788456, 0.79788456,\n",
       "        0.79788456, 0.79788456, 0.79788456, 0.79788456, 0.79788456,\n",
       "        0.79788456, 0.79788456, 0.79788456, 0.79788456, 0.79788456,\n",
       "        0.79788456, 0.79788456, 0.79788456, 0.79788456, 0.79788456,\n",
       "        0.79788456, 0.79788456, 0.79788456, 0.79788456, 0.79788456,\n",
       "        0.79788456, 0.79788456, 0.79788456, 0.79788456, 0.79788456,\n",
       "        0.79788456, 0.79788456, 0.79788456, 0.79788456, 0.79788456,\n",
       "        0.79788456, 0.79788456, 0.79788456, 0.79788456, 0.79788456,\n",
       "        0.79788456, 0.79788456, 0.79788456, 0.79788456, 0.79788456,\n",
       "        0.79788456, 0.79788456, 0.79788456, 0.79788456, 0.79788456,\n",
       "        0.79788456, 0.79788456, 0.79788456, 0.79788456, 0.79788456,\n",
       "        0.79788456, 0.79788456, 0.79788456, 0.79788456, 0.79788456,\n",
       "        0.79788456, 0.79788456, 0.79788456, 0.79788456, 0.79788456,\n",
       "        0.79788456, 0.79788456, 0.79788456, 0.79788456, 0.79788456,\n",
       "        0.79788456, 0.79788456, 0.79788456, 0.79788456, 0.79788456,\n",
       "        0.79788456, 0.79788456, 0.79788456, 0.79788456, 0.79788456,\n",
       "        0.79788456, 0.79788456, 0.79788456, 0.79788456, 0.79788456,\n",
       "        0.79788456, 0.79788456, 0.79788456, 0.79788456, 0.79788456,\n",
       "        0.79788456, 0.79788456, 0.79788456, 0.79788456, 0.79788456,\n",
       "        0.79788456, 0.79788456, 0.79788456, 0.79788456, 0.79788456,\n",
       "        0.79788456, 0.79788456, 0.79788456, 0.79788456, 0.79788456,\n",
       "        0.79788456, 0.79788456, 0.79788456, 0.79788456, 0.79788456,\n",
       "        0.79788456, 0.79788456, 0.79788456, 0.79788456, 0.79788456,\n",
       "        0.79788456, 0.79788456, 0.79788456, 0.79788456, 0.79788456,\n",
       "        0.79788456, 0.79788456, 0.79788456, 0.79788456, 0.79788456,\n",
       "        0.79788456, 0.79788456, 0.79788456, 0.79788456, 0.79788456,\n",
       "        0.79788456, 0.79788456, 0.79788456, 0.79788456, 0.79788456,\n",
       "        0.79788456, 0.79788456, 0.79788456, 0.79788456, 0.79788456,\n",
       "        0.79788456, 0.79788456, 0.79788456, 0.79788456, 0.79788456,\n",
       "        0.79788456, 0.79788456, 0.79788456, 0.79788456, 0.79788456,\n",
       "        0.79788456, 0.79788456, 0.79788456, 0.79788456, 0.79788456,\n",
       "        0.79788456, 0.79788456, 0.79788456, 0.79788456, 0.79788456,\n",
       "        0.79788456, 0.79788456, 0.79788456, 0.79788456, 0.79788456,\n",
       "        0.79788456, 0.79788456, 0.79788456, 0.79788456, 0.79788456,\n",
       "        0.79788456, 0.79788456, 0.79788456, 0.79788456, 0.79788456,\n",
       "        0.79788456, 0.79788456, 0.79788456, 0.79788456, 0.79788456,\n",
       "        0.79788456, 0.79788456, 0.79788456, 0.79788456, 0.79788456,\n",
       "        0.79788456, 0.79788456, 0.79788456, 0.79788456, 0.79788456,\n",
       "        0.79788456, 0.79788456, 0.79788456, 0.79788456, 0.79788456,\n",
       "        0.79788456, 0.79788456, 0.79788456, 0.79788456, 0.79788456,\n",
       "        0.79788456, 0.79788456, 0.79788456, 0.79788456, 0.79788456,\n",
       "        0.79788456, 0.79788456, 0.79788456, 0.79788456, 0.79788456,\n",
       "        0.79788456, 0.79788456, 0.79788456, 0.79788456, 0.79788456,\n",
       "        0.79788456, 0.79788456, 0.79788456, 0.79788456, 0.79788456,\n",
       "        0.79788456, 0.79788456, 0.79788456, 0.79788456, 0.79788456,\n",
       "        0.79788456, 0.79788456, 0.79788456, 0.79788456, 0.79788456,\n",
       "        0.79788456, 0.79788456, 0.79788456, 0.79788456, 0.79788456,\n",
       "        0.79788456, 0.79788456, 0.79788456, 0.79788456, 0.79788456,\n",
       "        0.79788456, 0.79788456, 0.79788456, 0.79788456, 0.79788456,\n",
       "        0.79788456, 0.79788456, 0.79788456, 0.79788456, 0.79788456,\n",
       "        0.79788456, 0.79788456, 0.79788456, 0.79788456, 0.79788456,\n",
       "        0.79788456, 0.79788456, 0.79788456, 0.79788456, 0.79788456,\n",
       "        0.79788456, 0.79788456, 0.79788456, 0.79788456, 0.79788456,\n",
       "        0.79788456, 0.79788456, 0.79788456, 0.79788456, 0.79788456,\n",
       "        0.79788456, 0.79788456, 0.79788456, 0.79788456, 0.79788456,\n",
       "        0.79788456, 0.79788456, 0.79788456, 0.79788456, 0.79788456,\n",
       "        0.79788456, 0.79788456, 0.79788456, 0.79788456, 0.79788456,\n",
       "        0.79788456, 0.79788456, 0.79788456, 0.79788456, 0.79788456,\n",
       "        0.79788456, 0.79788456, 0.79788456, 0.79788456, 0.79788456]])"
      ]
     },
     "execution_count": 123,
     "metadata": {},
     "output_type": "execute_result"
    }
   ],
   "source": [
    "E_t"
   ]
  },
  {
   "cell_type": "code",
   "execution_count": 74,
   "id": "70ffef8a",
   "metadata": {},
   "outputs": [
    {
     "data": {
      "text/plain": [
       "array([[-0.49868945, -0.86672271,  0.91511943, ..., -1.92150824,\n",
       "         0.31121847,  1.05051564],\n",
       "       [-0.87616447, -0.21941804, -0.07310721, ...,  0.2380173 ,\n",
       "         1.51918009, -0.38885228]])"
      ]
     },
     "execution_count": 74,
     "metadata": {},
     "output_type": "execute_result"
    }
   ],
   "source": []
  },
  {
   "cell_type": "code",
   "execution_count": 30,
   "id": "31e756c4",
   "metadata": {},
   "outputs": [],
   "source": []
  },
  {
   "cell_type": "code",
   "execution_count": 34,
   "id": "569946a7",
   "metadata": {},
   "outputs": [],
   "source": [
    "n = 1000\n",
    "d = 2\n",
    "\n",
    "mu = np.ones((d, 1))\n",
    "lmbda = np.ones((d, 1))\n",
    "Sigma = np.eye(d)\n",
    "delta = lmbda / np.sqrt(1 + lmbda.T @ lmbda)"
   ]
  },
  {
   "cell_type": "code",
   "execution_count": 45,
   "id": "7b67ef73",
   "metadata": {},
   "outputs": [
    {
     "data": {
      "text/plain": [
       "array([[0.57735027],\n",
       "       [0.57735027]])"
      ]
     },
     "execution_count": 45,
     "metadata": {},
     "output_type": "execute_result"
    }
   ],
   "source": [
    "delta"
   ]
  },
  {
   "cell_type": "code",
   "execution_count": 2,
   "id": "9c74117a",
   "metadata": {},
   "outputs": [],
   "source": []
  },
  {
   "cell_type": "code",
   "execution_count": 13,
   "id": "dcdf3054",
   "metadata": {},
   "outputs": [],
   "source": [
    "Delta = np.ones((2, 1))\n",
    "Gamma = np.eye(2)"
   ]
  },
  {
   "cell_type": "code",
   "execution_count": 17,
   "id": "123586ff",
   "metadata": {},
   "outputs": [],
   "source": [
    "Sigma = Gamma + Delta @ Delta.T\n",
    "lmbda = np.linalg.inv(np.sqrt(Sigma)) @ Delta / np.sqrt(1 - Delta.T @ np.linalg.inv(Sigma) @ Delta)"
   ]
  },
  {
   "cell_type": "code",
   "execution_count": 26,
   "id": "b9c052f7",
   "metadata": {},
   "outputs": [
    {
     "data": {
      "text/plain": [
       "array([[0.57735027]])"
      ]
     },
     "execution_count": 26,
     "metadata": {},
     "output_type": "execute_result"
    }
   ],
   "source": []
  },
  {
   "cell_type": "code",
   "execution_count": 12,
   "id": "1675cad3",
   "metadata": {},
   "outputs": [
    {
     "data": {
      "text/plain": [
       "array([[1.],\n",
       "       [1.]])"
      ]
     },
     "execution_count": 12,
     "metadata": {},
     "output_type": "execute_result"
    }
   ],
   "source": [
    "np.eye(2) @ np.ones((2,1))"
   ]
  },
  {
   "cell_type": "code",
   "execution_count": null,
   "id": "ea715889",
   "metadata": {},
   "outputs": [],
   "source": []
  },
  {
   "cell_type": "code",
   "execution_count": 11,
   "id": "f27cf903",
   "metadata": {},
   "outputs": [
    {
     "data": {
      "text/plain": [
       "array([[0.5, 0. ],\n",
       "       [0. , 0.5]])"
      ]
     },
     "execution_count": 11,
     "metadata": {},
     "output_type": "execute_result"
    }
   ],
   "source": [
    "delta.T @ np.linalg.inv(sigma) @ delta"
   ]
  },
  {
   "cell_type": "code",
   "execution_count": null,
   "id": "7e4d4439",
   "metadata": {},
   "outputs": [],
   "source": []
  },
  {
   "cell_type": "code",
   "execution_count": null,
   "id": "faadd6aa",
   "metadata": {},
   "outputs": [],
   "source": [
    "def logpdf(x, a, loc, scale):    \n",
    "    a, loc, scale = check_params(a, loc, scale)\n",
    "    \n",
    "    x    = mvn._process_quantiles(x, len(a))\n",
    "    pdf  = mvn(loc.flatten(), scale).logpdf(x)\n",
    "    cdf  = norm(0, 1).logcdf(np.dot(x, a.flatten()))\n",
    "    return _squeeze_output(np.log(2) + pdf + cdf)\n",
    "\n",
    "def pdf(x, a, loc, scale):\n",
    "    return np.exp(logpdf(x, a, loc, scale))\n"
   ]
  },
  {
   "cell_type": "code",
   "execution_count": null,
   "id": "fb073f94",
   "metadata": {},
   "outputs": [],
   "source": []
  },
  {
   "cell_type": "code",
   "execution_count": null,
   "id": "8218e24a",
   "metadata": {},
   "outputs": [],
   "source": []
  },
  {
   "cell_type": "code",
   "execution_count": null,
   "id": "76112322",
   "metadata": {},
   "outputs": [],
   "source": []
  },
  {
   "cell_type": "markdown",
   "id": "63cb42bd",
   "metadata": {},
   "source": [
    "# Multivariate Skew Normal Distribution\n",
    "\n",
    "**Density**: The probability density function of the multivariate skew normal distribution is given by\n",
    "\n",
    "$$f(\\boldsymbol{x})=2\\phi_K(\\boldsymbol{x};\\boldsymbol{0},\\boldsymbol{\\Omega})\\Phi(\\boldsymbol{\\alpha}^\\intercal\\boldsymbol{x}),$$\n",
    "\n",
    "for $\\boldsymbol{x}\\in\\mathbb{R}^K$, where $\\phi_K(\\boldsymbol{x};\\boldsymbol{0},\\boldsymbol{\\Omega})$ is the $K$-variate normal density with zero mean and correlation matrix $\\boldsymbol{\\Omega}$ and $\\Phi(\\cdot)$ is the CDF of the univariate spherical Gaussian, $\\mathcal{N}(0,1)$.\n",
    "\n",
    "\n",
    "\n",
    "**Sampling**: In Azzalini & Capitanio (1999), the authors propose the following. First, let\n",
    "\n",
    "$$\\begin{bmatrix}x_0\\\\\\boldsymbol{x}\\end{bmatrix}\\sim\\mathcal{N}_{K+1}\\left(\\boldsymbol{0}, \\begin{bmatrix}1&\\boldsymbol{\\delta}^\\intercal\\\\\\boldsymbol{\\delta}&\\boldsymbol{\\Omega}\\end{bmatrix}\\right),$$\n",
    "\n",
    "$$\\delta\\stackrel{\\tiny\\triangle}{=}\\frac{1}{\\sqrt{1+\\boldsymbol{\\alpha}^\\intercal\\boldsymbol{\\Omega}\\boldsymbol{\\alpha}}}\\boldsymbol{\\Omega}\\boldsymbol{\\alpha}.$$\n",
    "\n",
    "Then define $\\boldsymbol{z}$ as\n",
    "\n",
    "$$\\boldsymbol{z}=\\begin{cases}\\boldsymbol{x}&\\text{if }x_0>0 \\\\ -\\boldsymbol{x}&\\text{otherwise}.\\end{cases}$$\n",
    "\n",
    "Then $\\boldsymbol{z}$ is skew normal with shape $\\boldsymbol{\\alpha}$ and correlation matrix $\\boldsymbol{\\Omega}$. Since we never reject a sample, this can be easily vectorized.\n",
    "\n",
    "Azzalini, A., & Capitanio, A. (1999). Statistical applications of the multivariate skew normal distribution. *Journal of the Royal Statistical Society: Series B (Statistical Methodology)*, *61(3)*, 579–602."
   ]
  },
  {
   "cell_type": "code",
   "execution_count": 1,
   "id": "1ac076d0",
   "metadata": {},
   "outputs": [],
   "source": [
    "import multivariate_skewnorm"
   ]
  },
  {
   "cell_type": "code",
   "execution_count": 2,
   "id": "11075110",
   "metadata": {},
   "outputs": [],
   "source": [
    "import numpy as np\n",
    "#from scipy.stats import (multivariate_normal as mvn, norm)\n",
    "#from scipy.stats._multivariate import _squeeze_output\n",
    "\n",
    "class MV_SkewNorm:\n",
    "    # See: http://gregorygundersen.com/blog/2020/12/29/multivariate-skew-normal/\n",
    "    \n",
    "    def __init__(self, a, mean=None, cov=None):\n",
    "        self.dim   = len(a)\n",
    "        self.a     = np.asarray(a)\n",
    "        self.mean  = np.zeros(self.dim) if mean is None else np.asarray(mean)\n",
    "        self.cov   = np.eye(self.dim) if cov is None else np.asarray(cov)\n",
    "\n",
    "    def pdf(self, x):\n",
    "        \"\"\"return np.exp(self.logpdf(x))\"\"\"\n",
    "        return multivariate_skewnorm.pdf(x, self.a, self.mean, self.cov)\n",
    "        \n",
    "    def logpdf(self, x):\n",
    "        \"\"\"x    = mvn._process_quantiles(x, self.dim)\n",
    "        pdf  = mvn(self.mean, self.cov).logpdf(x)\n",
    "        cdf  = norm(0, 1).logcdf(np.dot(x, self.a))\n",
    "        return _squeeze_output(np.log(2) + pdf + cdf)\"\"\"\n",
    "        return multivariate_skewnorm.logpdf(x, self.a, self.mean, self.cov)\n",
    "    \n",
    "    def rvs(self, size=1):\n",
    "        \"\"\"aCa      = self.a @ self.cov @ self.a\n",
    "        delta    = (1 / np.sqrt(1 + aCa)) * self.cov @ self.a\n",
    "        cov_star = np.block([[np.ones(1),     delta],\n",
    "                             [delta[:, None], self.cov]])\n",
    "        x        = mvn(np.zeros(self.dim+1), cov_star).rvs(size)\n",
    "        x0, x1   = x[:, 0], x[:, 1:]\n",
    "        inds     = x0 <= 0\n",
    "        x1[inds] = -1 * x1[inds]\n",
    "        return x1 + self.mean\"\"\"\n",
    "        return multivariate_skewnorm.rvs(self.a, self.mean, self.cov, size=size)"
   ]
  },
  {
   "cell_type": "code",
   "execution_count": 3,
   "id": "41e9c9b7",
   "metadata": {},
   "outputs": [],
   "source": [
    "import scipy.stats\n",
    "import matplotlib.pyplot as plt\n",
    "from matplotlib import cm"
   ]
  },
  {
   "cell_type": "code",
   "execution_count": 10,
   "id": "2d4eee0b",
   "metadata": {},
   "outputs": [],
   "source": [
    "# params for msn\n",
    "xx   = np.linspace(-5, 5, 300)\n",
    "yy   = np.linspace(-5, 5, 300)\n",
    "X, Y = np.meshgrid(xx, yy)\n",
    "pos  = np.dstack((X, Y))\n",
    "a = [5, 1]\n",
    "\n",
    "# density\n",
    "Z = MV_SkewNorm(a=a).pdf(pos)\n",
    "\n",
    "# scale density\n",
    "Z = Z / Z.sum()\n",
    "\n",
    "# find percentile levels\n",
    "# see: https://stackoverflow.com/questions/37890550/python-plotting-percentile-contour-lines-of-a-probability-distribution\n",
    "from scipy import interpolate\n",
    "n = 1000\n",
    "t = np.linspace(0, Z.max(), n)\n",
    "integral = ((Z >= t[:, None, None]) * Z).sum(axis=(1,2))\n",
    "f = interpolate.interp1d(integral, t)\n",
    "t_contours = f(np.array([0.99, 0.95, 0.90]))"
   ]
  },
  {
   "cell_type": "code",
   "execution_count": 5,
   "id": "81b84f45",
   "metadata": {},
   "outputs": [
    {
     "data": {
      "image/png": "[encoded data removed]",
      "text/plain": [
       "<Figure size 720x720 with 1 Axes>"
      ]
     },
     "metadata": {
      "needs_background": "light"
     },
     "output_type": "display_data"
    }
   ],
   "source": [
    "plt.figure(figsize = (10, 10))\n",
    "plt.contourf(X,Y,Z, 25)\n",
    "cs=plt.contour(X,Y,Z, t_contours, colors=\"white\")\n",
    "plt.show()"
   ]
  },
  {
   "cell_type": "code",
   "execution_count": 6,
   "id": "4a96ecb3",
   "metadata": {},
   "outputs": [],
   "source": [
    "pp = cs.collections[1].get_paths()[0].to_polygons()[0]"
   ]
  },
  {
   "cell_type": "code",
   "execution_count": 7,
   "id": "c98a0cd5",
   "metadata": {},
   "outputs": [
    {
     "data": {
      "image/png": "[encoded data removed]",
      "text/plain": [
       "<Figure size 720x720 with 1 Axes>"
      ]
     },
     "metadata": {
      "needs_background": "light"
     },
     "output_type": "display_data"
    }
   ],
   "source": [
    "plt.figure(figsize = (10, 10))\n",
    "plt.contourf(X,Y,Z,25)\n",
    "plt.plot(pp[:,0],pp[:,1], color=\"white\", label = \"95 % prediction boundary\")\n",
    "plt.xlim([-5, 5])\n",
    "plt.ylim([-5, 5])\n",
    "plt.legend()\n",
    "plt.show()"
   ]
  },
  {
   "cell_type": "code",
   "execution_count": 16,
   "id": "fd7d26ac",
   "metadata": {},
   "outputs": [
    {
     "data": {
      "image/png": "[encoded data removed]",
      "text/plain": [
       "<Figure size 720x720 with 1 Axes>"
      ]
     },
     "metadata": {
      "needs_background": "light"
     },
     "output_type": "display_data"
    }
   ],
   "source": [
    "r = MV_SkewNorm(a=a).rvs(10000)\n",
    "\n",
    "plt.figure(figsize = (10, 10))\n",
    "plt.hist2d(r[:,0], r[:,1], bins=50)\n",
    "plt.show()"
   ]
  },
  {
   "cell_type": "code",
   "execution_count": null,
   "id": "2bdb4928",
   "metadata": {},
   "outputs": [],
   "source": []
  }
 ],
 "metadata": {
  "kernelspec": {
   "display_name": "Python 3.6 (rdist)",
   "language": "python",
   "name": "rdist_36"
  },
  "language_info": {
   "codemirror_mode": {
    "name": "ipython",
    "version": 3
   },
   "file_extension": ".py",
   "mimetype": "text/x-python",
   "name": "python",
   "nbconvert_exporter": "python",
   "pygments_lexer": "ipython3",
   "version": "3.6.13"
  }
 },
 "nbformat": 4,
 "nbformat_minor": 5
}
